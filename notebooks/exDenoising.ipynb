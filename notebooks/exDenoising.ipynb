{
 "metadata": {
  "name": "exDenoising"
 },
 "nbformat": 3,
 "nbformat_minor": 0,
 "worksheets": [
  {
   "cells": [
    {
     "cell_type": "code",
     "collapsed": false,
     "input": [
      "import sys\n",
      "sys.path.append('../')\n",
      "\n",
      "import numpy as np\n",
      "from scipy import sparse as sp\n",
      "import matplotlib.pyplot as plt\n",
      "from SimPEG import TensorMesh\n",
      "from SimPEG.GaussNewton import simpleMisfun, simpleRegfun, GaussNewton"
     ],
     "language": "python",
     "metadata": {},
     "outputs": [],
     "prompt_number": 19
    },
    {
     "cell_type": "code",
     "collapsed": false,
     "input": [
      "h1 = .1*np.ones(128)\n",
      "mesh = TensorMesh([h1,h1])\n",
      "\n",
      "b =  (mesh.gridCC[:,0]>4) * (mesh.gridCC[:,0]<8) * (mesh.gridCC[:,1]>4) * (mesh.gridCC[:,1]<8)\n",
      "\n",
      "def misfun(x):\n",
      "    Mc,dMc,JMc,r = simpleMisfun(x,b)\n",
      "    return Mc,dMc,JMc,r\n",
      "def regfun(x):\n",
      "    Rc,dRc,H = simpleRegfun(x,mesh)\n",
      "    return Rc,dRc,H\n",
      "\n",
      "\n",
      "x0 = np.zeros(mesh.nC)\n",
      "xOpt = GaussNewton(misfun,regfun,1e-2,x0,maxIter=100)\n"
     ],
     "language": "python",
     "metadata": {},
     "outputs": [
      {
       "output_type": "stream",
       "stream": "stdout",
       "text": [
        "============================== GaussNewton ==============================\n",
        "iter\tJc\t\t\tMc\t\t\t\tRc\t\t\t\tnorm(dJ)\tLS\n",
        "-------------------------------------------------------------------------\n",
        "  0\t8.00e+02\t\t8.00e+02\t\t0.00e+00\t\t4.00e+01\t0\n",
        "incg converged in 1 iterations. relres=1.4183e-14\t<=\ttol=1.0000e-04."
       ]
      },
      {
       "output_type": "stream",
       "stream": "stdout",
       "text": [
        "\n",
        "  1\t7.22e+02\t\t7.22e+02\t\t1.04e-17\t\t3.80e+01\t1\n",
        "incg did NOT converge to tol 1.0000e-04. The 10th iterate has relres=5.2580e-02."
       ]
      },
      {
       "output_type": "stream",
       "stream": "stdout",
       "text": [
        "\n",
        "  2\t1.00e+02\t\t9.56e+01\t\t4.76e+00\t\t1.35e+01\t1\n",
        "incg did NOT converge to tol 1.0000e-04. The 10th iterate has relres=1.7594e-01."
       ]
      },
      {
       "output_type": "stream",
       "stream": "stdout",
       "text": [
        "\n",
        "  3\t5.89e+01\t\t5.04e+01\t\t8.45e+00\t\t9.01e+00\t1\n",
        "incg did NOT converge to tol 1.0000e-04. The 10th iterate has relres=1.9072e-02."
       ]
      },
      {
       "output_type": "stream",
       "stream": "stdout",
       "text": [
        "\n",
        "  4\t4.95e+01\t\t3.94e+01\t\t1.01e+01\t\t7.44e+00\t1\n",
        "incg did NOT converge to tol 1.0000e-04. The 10th iterate has relres=2.6915e-03."
       ]
      },
      {
       "output_type": "stream",
       "stream": "stdout",
       "text": [
        "\n",
        "  5\t4.48e+01\t\t3.36e+01\t\t1.11e+01\t\t6.30e+00\t1\n",
        "incg converged in 1 iterations. relres=7.4904e-12\t<=\ttol=1.0000e-04."
       ]
      },
      {
       "output_type": "stream",
       "stream": "stdout",
       "text": [
        "\n",
        "  6\t4.48e+01\t\t3.36e+01\t\t1.11e+01\t\t6.30e+00\t1\n",
        "incg did NOT converge to tol 1.0000e-04. The 10th iterate has relres=4.2257e-03."
       ]
      },
      {
       "output_type": "stream",
       "stream": "stdout",
       "text": [
        "\n",
        "  7\t4.19e+01\t\t2.94e+01\t\t1.25e+01\t\t5.50e+00\t1\n",
        "incg converged in 1 iterations. relres=4.2156e-12\t<=\ttol=1.0000e-04."
       ]
      },
      {
       "output_type": "stream",
       "stream": "stdout",
       "text": [
        "\n",
        "  8\t4.19e+01\t\t2.94e+01\t\t1.25e+01\t\t5.50e+00\t1\n",
        "incg did NOT converge to tol 1.0000e-04. The 10th iterate has relres=1.2673e-02."
       ]
      },
      {
       "output_type": "stream",
       "stream": "stdout",
       "text": [
        "\n",
        "  9\t4.01e+01\t\t2.68e+01\t\t1.33e+01\t\t4.80e+00\t1\n",
        "incg did NOT converge to tol 1.0000e-04. The 10th iterate has relres=4.3083e-01."
       ]
      },
      {
       "output_type": "stream",
       "stream": "stdout",
       "text": [
        "\n",
        " 10\t3.89e+01\t\t2.45e+01\t\t1.43e+01\t\t4.27e+00\t1\n",
        "incg did NOT converge to tol 1.0000e-04. The 10th iterate has relres=5.8133e-03."
       ]
      },
      {
       "output_type": "stream",
       "stream": "stdout",
       "text": [
        "\n",
        " 11\t3.80e+01\t\t2.30e+01\t\t1.49e+01\t\t3.77e+00\t1\n",
        "incg did NOT converge to tol 1.0000e-04. The 10th iterate has relres=3.8754e-03."
       ]
      },
      {
       "output_type": "stream",
       "stream": "stdout",
       "text": [
        "\n",
        " 12\t3.74e+01\t\t2.16e+01\t\t1.57e+01\t\t3.39e+00\t1\n",
        "incg converged in 1 iterations. relres=4.8256e-08\t<=\ttol=1.0000e-04."
       ]
      },
      {
       "output_type": "stream",
       "stream": "stdout",
       "text": [
        "\n",
        "--------------------------------- STOP! ---------------------------------\n",
        "1 : |xc-xOld| = 3.1973e-07\t<=\ttolX    \t= 1.0000e-03\n",
        "0 : iter      =  13\t\t\t<=\tmaxIter\t\t= 100\n",
        "================================= DONE! =================================\n",
        "\n"
       ]
      }
     ],
     "prompt_number": 20
    },
    {
     "cell_type": "code",
     "collapsed": false,
     "input": [
      "fig = plt.figure(1)\n",
      "fig.clf()\n",
      "mesh.plotImage(b)\n",
      "fig.show()\n",
      "fig = plt.figure(1)\n",
      "fig.clf()\n",
      "mesh.plotImage(xOpt)\n",
      "fig.show()"
     ],
     "language": "python",
     "metadata": {},
     "outputs": [
      {
       "output_type": "display_data",
       "png": "[encoded data removed]"
      },
      {
       "output_type": "display_data",
       "png": "[encoded data removed]"
      }
     ],
     "prompt_number": 21
    },
    {
     "cell_type": "code",
     "collapsed": false,
     "input": [],
     "language": "python",
     "metadata": {},
     "outputs": []
    }
   ],
   "metadata": {}
  }
 ]
}