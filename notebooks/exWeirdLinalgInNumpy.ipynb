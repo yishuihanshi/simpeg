{
 "metadata": {
  "name": "exWeirdLinalgInNumpy"
 },
 "nbformat": 3,
 "nbformat_minor": 0,
 "worksheets": [
  {
   "cells": [
    {
     "cell_type": "markdown",
     "metadata": {},
     "source": [
      "#Test Operators\n",
      "\n",
      "This Notebook driver tests the operators implemented by Eldad against the numpy primitives. It turns out, that results of numpy routines rely on the shape of vectors. "
     ]
    },
    {
     "cell_type": "code",
     "collapsed": false,
     "input": [
      "import sys\n",
      "sys.path.append('../')\n",
      "\n",
      "import numpy as np\n",
      "import scipy.sparse as sp\n",
      "import matplotlib.pyplot as plt\n",
      "import SimPEG.ops as ops"
     ],
     "language": "python",
     "metadata": {},
     "outputs": [],
     "prompt_number": 74
    },
    {
     "cell_type": "markdown",
     "metadata": {},
     "source": [
      "## Test matmul\n",
      "\n",
      "Here, I do not see the point. Eldad: Do I test the right thing?"
     ]
    },
    {
     "cell_type": "code",
     "collapsed": false,
     "input": [
      "n = 4\n",
      "A = 4* sp.eye(n) + sp.rand(n,n,density=0.05, format='csr')\n",
      "A = A.T*A\n",
      "B = 3* np.eye(n) + 1e-4* np.random.rand(n,n)\n",
      "B = B.T*B\n",
      "\n",
      "print np.linalg.norm (ops.matmul(A,B) - ops.matmul(B,A))\n",
      "print np.linalg.norm (A*B - ops.matmul(A,B))\n",
      "print np.linalg.norm (B*A - ops.matmul(B,A))"
     ],
     "language": "python",
     "metadata": {},
     "outputs": [
      {
       "output_type": "stream",
       "stream": "stdout",
       "text": [
        "0.0\n",
        "0.0\n",
        "0.0\n"
       ]
      }
     ],
     "prompt_number": 131
    },
    {
     "cell_type": "markdown",
     "metadata": {},
     "source": [
      "## Test dot\n",
      "\n",
      "Testing the dot product of two vectors a and b. While results are equivalent for a and b being n-by-1 or n-by-0 arrays, the shape of the output varies in numpy. For the ops class, the dot product always returns a scalar."
     ]
    },
    {
     "cell_type": "code",
     "collapsed": false,
     "input": [
      "n = 10\n",
      "a = np.random.rand(n)\n",
      "a2 = a.reshape(n,1)\n",
      "b = np.random.rand(n)\n",
      "b2 = b.reshape(n,1)\n",
      "\n",
      "print 'using numpy'\n",
      "print 'a.dot(b)      =%f, isScalar=%s' % (a.dot(b),     np.isscalar(a.dot(b)))\n",
      "print 'a.dot(b2)     =%f, isScalar=%s' % (a.dot(b2),    np.isscalar(a.dot(b2)))\n",
      "print 'a2.T.dot(b)   =%f, isScalar=%s' % (a2.T.dot(b),  np.isscalar(a2.T.dot(b)))\n",
      "print 'a.T.dot(b2)   =%f, isScalar=%s' % (a.T.dot(b2),  np.isscalar(a.T.dot(b2)))\n",
      "\n",
      "print 'using ops'\n",
      "print 'ops.dot(a,b)  =%f, isScalar=%s' % (ops.dot(a,b),  np.isscalar(ops.dot(a,b)))\n",
      "print 'ops.dot(a2,b) =%f, isScalar=%s' % (ops.dot(a2,b), np.isscalar(ops.dot(a2,b)))\n",
      "print 'ops.dot(a,b2) =%f, isScalar=%s' % (ops.dot(a,b2), np.isscalar(ops.dot(a,b2)))\n",
      "print 'ops.dot(a2,b2)=%f, isScalar=%s' % (ops.dot(a2,b2),np.isscalar(ops.dot(a2,b2)))"
     ],
     "language": "python",
     "metadata": {},
     "outputs": [
      {
       "output_type": "stream",
       "stream": "stdout",
       "text": [
        "using numpy\n",
        "a.dot(b)      =4.404286, isScalar=True\n",
        "a.dot(b2)     =4.404286, isScalar=False\n",
        "a2.T.dot(b)   =4.404286, isScalar=False\n",
        "a.T.dot(b2)   =4.404286, isScalar=False\n",
        "using ops\n",
        "ops.dot(a,b)  =4.404286, isScalar=True\n",
        "ops.dot(a2,b) =4.404286, isScalar=True\n",
        "ops.dot(a,b2) =4.404286, isScalar=True\n",
        "ops.dot(a2,b2)=4.404286, isScalar=True\n"
       ]
      }
     ],
     "prompt_number": 102
    },
    {
     "cell_type": "markdown",
     "metadata": {},
     "source": [
      "## Test inner\n",
      "\n",
      "Thats weird! When calling numpys inner product of two n-by-1 vectors, the result is a n-by-n matrix. "
     ]
    },
    {
     "cell_type": "code",
     "collapsed": false,
     "input": [
      "n = 10\n",
      "a = np.random.rand(n)\n",
      "a2 = a.reshape(n,1)\n",
      "b = np.random.rand(n)\n",
      "b2 = b.reshape(n,1)\n",
      "\n",
      "print 'numpy'\n",
      "print 'shape(np.inner(a,b))   = %10s, isScalar=%s'   %   ((np.inner(a,b)).shape,np.isscalar(np.inner(a,b)))\n",
      "print 'shape(np.inner(a2,b2)) = %10s, isScalar=%s'   %   ((np.inner(a2,b2)).shape,np.isscalar(np.inner(a2,b2)))\n",
      "print 'shape(np.inner(a,b2))  = does not work'   \n",
      "print 'shape(np.inner(a2,b))  = does not work'   \n",
      "\n",
      "print 'ops'\n",
      "print 'ops.inner(a,b)   = %f, isScalar=%s'   %   (ops.inner(a,b),np.isscalar(ops.inner(a,b)))\n",
      "print 'ops.inner(a2,b2) = %f, isScalar=%s'   %   (ops.inner(a2,b2),np.isscalar(ops.inner(a2,b2)))\n",
      "print 'ops.inner(a ,b2) = %f, isScalar=%s'   %   (ops.inner(a,b2),np.isscalar(ops.inner(a,b2)))\n",
      "print 'ops.inner(a2 ,b) = %f, isScalar=%s'   %   (ops.inner(a2,b),np.isscalar(ops.inner(a2,b)))\n",
      "\n"
     ],
     "language": "python",
     "metadata": {},
     "outputs": [
      {
       "output_type": "stream",
       "stream": "stdout",
       "text": [
        "numpy\n",
        "shape(np.inner(a,b))   =         (), isScalar=True\n",
        "shape(np.inner(a2,b2)) =   (10, 10), isScalar=False\n",
        "shape(np.inner(a,b2))  = does not work\n",
        "shape(np.inner(a2,b))  = does not work\n",
        "ops\n",
        "ops.inner(a,b)   = 2.509240, isScalar=True\n",
        "ops.inner(a2,b2) = 2.509240, isScalar=True\n",
        "ops.inner(a ,b2) = 2.509240, isScalar=True\n",
        "ops.inner(a2 ,b) = 2.509240, isScalar=True\n"
       ]
      }
     ],
     "prompt_number": 132
    },
    {
     "cell_type": "code",
     "collapsed": false,
     "input": [],
     "language": "python",
     "metadata": {},
     "outputs": []
    }
   ],
   "metadata": {}
  }
 ]
}